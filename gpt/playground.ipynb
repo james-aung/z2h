{
 "cells": [
  {
   "cell_type": "code",
   "execution_count": null,
   "metadata": {},
   "outputs": [],
   "source": [
    "TODO\n",
    "\n",
    "- try out a different tokeniser"
   ]
  },
  {
   "cell_type": "code",
   "execution_count": 1,
   "metadata": {},
   "outputs": [],
   "source": [
    "# read tinyshakespeare dataset\n",
    "\n",
    "with open('data/input.txt', 'r', encoding='utf-8') as f:\n",
    "    text = f.read()\n",
    "\n",
    "# inspect first 1000 characters\n",
    "print(text[:1000])\n"
   ]
  },
  {
   "cell_type": "code",
   "execution_count": 7,
   "metadata": {},
   "outputs": [
    {
     "name": "stdout",
     "output_type": "stream",
     "text": [
      "{'\\n': 0, ' ': 1, '!': 2, '$': 3, '&': 4, \"'\": 5, ',': 6, '-': 7, '.': 8, '3': 9, ':': 10, ';': 11, '?': 12, 'A': 13, 'B': 14, 'C': 15, 'D': 16, 'E': 17, 'F': 18, 'G': 19, 'H': 20, 'I': 21, 'J': 22, 'K': 23, 'L': 24, 'M': 25, 'N': 26, 'O': 27, 'P': 28, 'Q': 29, 'R': 30, 'S': 31, 'T': 32, 'U': 33, 'V': 34, 'W': 35, 'X': 36, 'Y': 37, 'Z': 38, 'a': 39, 'b': 40, 'c': 41, 'd': 42, 'e': 43, 'f': 44, 'g': 45, 'h': 46, 'i': 47, 'j': 48, 'k': 49, 'l': 50, 'm': 51, 'n': 52, 'o': 53, 'p': 54, 'q': 55, 'r': 56, 's': 57, 't': 58, 'u': 59, 'v': 60, 'w': 61, 'x': 62, 'y': 63, 'z': 64}\n",
      "{0: '\\n', 1: ' ', 2: '!', 3: '$', 4: '&', 5: \"'\", 6: ',', 7: '-', 8: '.', 9: '3', 10: ':', 11: ';', 12: '?', 13: 'A', 14: 'B', 15: 'C', 16: 'D', 17: 'E', 18: 'F', 19: 'G', 20: 'H', 21: 'I', 22: 'J', 23: 'K', 24: 'L', 25: 'M', 26: 'N', 27: 'O', 28: 'P', 29: 'Q', 30: 'R', 31: 'S', 32: 'T', 33: 'U', 34: 'V', 35: 'W', 36: 'X', 37: 'Y', 38: 'Z', 39: 'a', 40: 'b', 41: 'c', 42: 'd', 43: 'e', 44: 'f', 45: 'g', 46: 'h', 47: 'i', 48: 'j', 49: 'k', 50: 'l', 51: 'm', 52: 'n', 53: 'o', 54: 'p', 55: 'q', 56: 'r', 57: 's', 58: 't', 59: 'u', 60: 'v', 61: 'w', 62: 'x', 63: 'y', 64: 'z'}\n"
     ]
    }
   ],
   "source": [
    "# we need to tokenize the text into characters. we will have a unique token for each character.\n",
    "\n",
    "unique_chars = set(text)\n",
    "chars = sorted(list(unique_chars))\n",
    "vocab_size = len(chars)\n",
    "\n",
    "# create a mapping from characters to integers\n",
    "string_to_int = { ch:i for i,ch in enumerate(chars) }\n",
    "int_to_string = { i:ch for i,ch in enumerate(chars) }\n",
    "\n",
    "encode = lambda s: [string_to_int[c] for c in s]\n",
    "decode = lambda l: ''.join([int_to_string[i] for i in l])\n",
    "\n",
    "print(string_to_int)\n",
    "print(int_to_string)"
   ]
  },
  {
   "cell_type": "code",
   "execution_count": 13,
   "metadata": {},
   "outputs": [
    {
     "name": "stdout",
     "output_type": "stream",
     "text": [
      "[46, 43, 50, 50, 53]\n",
      "46\n",
      "hello\n"
     ]
    }
   ],
   "source": [
    "# playing around with the tokenization\n",
    "\n",
    "encoded = encode(\"hello\")\n",
    "print(encoded)\n",
    "print(encoded[0])\n",
    "print(decode(encoded))\n"
   ]
  },
  {
   "cell_type": "code",
   "execution_count": 14,
   "metadata": {},
   "outputs": [
    {
     "name": "stdout",
     "output_type": "stream",
     "text": [
      "torch.Size([1115394]) torch.int64\n",
      "tensor([18, 47, 56, 57, 58,  1, 15, 47, 58, 47, 64, 43, 52, 10,  0, 14, 43, 44,\n",
      "        53, 56, 43,  1, 61, 43,  1, 54, 56, 53, 41, 43, 43, 42,  1, 39, 52, 63,\n",
      "         1, 44, 59, 56, 58, 46, 43, 56,  6,  1, 46, 43, 39, 56,  1, 51, 43,  1,\n",
      "        57, 54, 43, 39, 49,  8,  0,  0, 13, 50, 50, 10,  0, 31, 54, 43, 39, 49,\n",
      "         6,  1, 57, 54, 43, 39, 49,  8,  0,  0, 18, 47, 56, 57, 58,  1, 15, 47,\n",
      "        58, 47, 64, 43, 52, 10,  0, 37, 53, 59])\n"
     ]
    }
   ],
   "source": [
    "# tokenize the text and store in a tensor\n",
    "import torch\n",
    "data = torch.tensor(encode(text), dtype=torch.long)\n",
    "print(data.shape, data.dtype)\n",
    "\n",
    "print(data[:100])"
   ]
  },
  {
   "cell_type": "code",
   "execution_count": 15,
   "metadata": {},
   "outputs": [
    {
     "name": "stdout",
     "output_type": "stream",
     "text": [
      "torch.Size([1003854]) torch.Size([111540])\n"
     ]
    }
   ],
   "source": [
    "# split the data into training and validation sets\n",
    "ratio = 0.9 \n",
    "\n",
    "index = int(ratio*len(data))\n",
    "train_data = data[:index]\n",
    "val_data = data[index:]\n",
    "\n",
    "print(train_data.shape, val_data.shape)\n"
   ]
  },
  {
   "cell_type": "code",
   "execution_count": 23,
   "metadata": {},
   "outputs": [
    {
     "data": {
      "text/plain": [
       "<torch._C.Generator at 0x128d903d0>"
      ]
     },
     "execution_count": 23,
     "metadata": {},
     "output_type": "execute_result"
    }
   ],
   "source": [
    "# CONSTANTS\n",
    "BLOCK_SIZE = 8\n",
    "BATCH_SIZE = 4\n",
    "torch.manual_seed(42)"
   ]
  },
  {
   "cell_type": "code",
   "execution_count": 24,
   "metadata": {},
   "outputs": [],
   "source": [
    "def get_batch(split):\n",
    "    data = train_data if split == 'train' else val_data\n",
    "    random_indices = torch.randint(len(data) - BLOCK_SIZE, (BATCH_SIZE,))\n",
    "    x = torch.stack([data[i:i+BLOCK_SIZE] for i in random_indices])\n",
    "    y = torch.stack([data[i+1:i+BLOCK_SIZE+1] for i in random_indices])\n",
    "    return x, y\n"
   ]
  },
  {
   "cell_type": "code",
   "execution_count": 27,
   "metadata": {},
   "outputs": [
    {
     "name": "stdout",
     "output_type": "stream",
     "text": [
      "torch.Size([4, 8]) torch.Size([4, 8])\n",
      "tensor([[ 1, 57, 53,  8,  0, 21,  5, 50],\n",
      "        [43, 52, 42, 57,  0, 13, 52, 42],\n",
      "        [39, 58, 58, 43, 56, 12,  0,  0],\n",
      "        [51, 63,  1, 57, 53, 56, 56, 53]])\n",
      "tensor([[57, 53,  8,  0, 21,  5, 50, 50],\n",
      "        [52, 42, 57,  0, 13, 52, 42,  1],\n",
      "        [58, 58, 43, 56, 12,  0,  0, 16],\n",
      "        [63,  1, 57, 53, 56, 56, 53, 61]])\n",
      "input:  so.\n",
      "I'l\n",
      "target: so.\n",
      "I'll\n",
      "---\n",
      "input: ends\n",
      "And\n",
      "target: nds\n",
      "And \n",
      "---\n",
      "input: atter?\n",
      "\n",
      "\n",
      "target: tter?\n",
      "\n",
      "D\n",
      "---\n",
      "input: my sorro\n",
      "target: y sorrow\n",
      "---\n"
     ]
    }
   ],
   "source": [
    "xb, yb = get_batch('train')\n",
    "print(xb.shape, yb.shape)\n",
    "print(xb)\n",
    "print(yb)\n",
    "# print decoded versions of xb and yb\n",
    "for b in range(BATCH_SIZE):\n",
    "    print('input:', decode(xb[b].tolist()))\n",
    "    print('target:', decode(yb[b].tolist()))\n",
    "    print('---')"
   ]
  },
  {
   "cell_type": "markdown",
   "metadata": {},
   "source": [
    "# Bigram"
   ]
  },
  {
   "cell_type": "code",
   "execution_count": 52,
   "metadata": {},
   "outputs": [],
   "source": [
    "# bigram model\n",
    "import torch.nn as nn\n",
    "from torch.nn import functional as F\n",
    "\n",
    "class BigramLanguageModel(nn.Module):\n",
    "    def __init__(self, vocab_size):\n",
    "        super().__init__()\n",
    "        self.token_embedding_table = nn.Embedding(vocab_size, vocab_size) # lookup table for each token\n",
    "        \n",
    "    def forward(self, idx, targets=None):\n",
    "        # The embedding table maps each token to a vector of logits (scores) for next token prediction\n",
    "        # Input shape (idx): [Batch_size, Time_steps] -> Output shape: [Batch_size, Time_steps, vocab_size]\n",
    "        logits = self.token_embedding_table(idx)\n",
    "\n",
    "        if targets is None:\n",
    "            loss = None\n",
    "        else:\n",
    "            B,T,C = logits.shape\n",
    "            logits = logits.view(B*T, C)\n",
    "            targets = targets.view(B*T)\n",
    "            loss = F.cross_entropy(logits, targets)\n",
    "        return logits, loss\n",
    "\n",
    "    def generate(self, idx, max_new_tokens):\n",
    "        for _ in range(max_new_tokens):\n",
    "            logits, loss = self(idx)\n",
    "            logits = logits[:, -1, :] # Get logits for last position only since we only need to predict the next token\n",
    "            probs = F.softmax(logits, dim=-1)\n",
    "            idx_next = torch.multinomial(probs, num_samples=1) # sample from the distribution to get the next token\n",
    "            idx = torch.cat((idx, idx_next), dim=-1) # append the next token to the sequence\n",
    "        return idx\n",
    "\n"
   ]
  },
  {
   "cell_type": "code",
   "execution_count": 54,
   "metadata": {},
   "outputs": [
    {
     "name": "stdout",
     "output_type": "stream",
     "text": [
      "torch.Size([32, 65])\n",
      "tensor(4.6983, grad_fn=<NllLossBackward0>)\n",
      "\n",
      "JqcOY3!ROMoDb;h:l?Zep!:?$nir:Mw UrI&WSKw'ioWoWRUjmTObPZFgwVaOMLxh\n",
      "d:EJQC-SLORohtX!sytQ'nOHmH3-S!maq?b LDKv;XAa qwFA,TFgpH$YlYrGa OVDC-kj:NzEA,S!JEhvYeOQeiLygBQMiBwIc&fA3JTpC&l \n",
      "LPKi3kOMZ\n",
      "d-kTrNPnpMo;,xgFOisd-FB,sPnsCUoDzTeeneaI.gZ:BmZjEqitugXr''m:wJwbZSlOHxSTD'l zAh!:QMUb.KC&UkelfC-GbYrQv \n",
      "cMiwMvhl3&.G-GHOJGh-eO?hZKyRUJuoD?,B,BjDa,bd-Tt;Q&PdVaaH$YroAVnCt'QwpwvJL:ncnHvT-'jGs$k:M?$Co.$r-kRoP-k'PniB 'QMZlnboVHpZ,Bpb uxqsJXlvT3pZbCbC?Xh$YrfYU\n",
      "wyTU!dOMmTD-or!- QvnOsJXReD,szuvNcsB,q?hz \n",
      " hoJTOjjDVMOvwJvxgcjeOJmefx ZjD:JunC,Y3nk?'H\n",
      "!iyw!juFXaBA,ygAS!dAR&3M .JEHviBX.$QyqtQ?TUygXpftugXWHxaLzFa?,I&PT.I?.rKGSXHmkWSSw csLzQET gTpoHO guLwhpH-kmwoA,cOQHzc!!Q ex;QZWU?$D'3yMmeOJfwvywNQQ-cZPD$-B,U,pZwmwUGRR&wINb3ubGbgTjjt;E ay,?&lfiock$GbZAAGOTxCX.\n",
      "UC-tvcm:&lnNOiR&.pkesr!IS!;cgDm:i,KehWNhagJ:Ic:wmW3k;AM?myomQ&wx;QoRn'Q-kp!!jxquoRzpZ'f:WG;QOL3e$AYryLmmezx'?APhZcYrNovrQ$HBIlu\n",
      "xgbohOpS,QnsDJMcFrrn!lI3'hYrUJ!V;AqcnsUeLPxexh;VJ-pqVVGJV!d\n",
      "\n",
      "G'fU WPq qhPTWEkLzfLz:zkoGP bZ:&;MRTx'cgGOvMN3BPx;a!mag$rHx cSZWSKOU?\n"
     ]
    }
   ],
   "source": [
    "m = BigramLanguageModel(vocab_size)\n",
    "logits, loss = m(xb,yb)\n",
    "print(logits.shape)\n",
    "print(loss)\n",
    "\n",
    "idx = torch.zeros((1,1), dtype=torch.long)\n",
    "print(decode(m.generate(idx, max_new_tokens=1000)[0].tolist()))\n"
   ]
  },
  {
   "cell_type": "code",
   "execution_count": null,
   "metadata": {},
   "outputs": [],
   "source": []
  }
 ],
 "metadata": {
  "kernelspec": {
   "display_name": "z2h",
   "language": "python",
   "name": "python3"
  },
  "language_info": {
   "codemirror_mode": {
    "name": "ipython",
    "version": 3
   },
   "file_extension": ".py",
   "mimetype": "text/x-python",
   "name": "python",
   "nbconvert_exporter": "python",
   "pygments_lexer": "ipython3",
   "version": "3.12.10"
  }
 },
 "nbformat": 4,
 "nbformat_minor": 2
}
